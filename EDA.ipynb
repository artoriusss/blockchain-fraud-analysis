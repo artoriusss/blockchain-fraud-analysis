{
 "cells": [
  {
   "cell_type": "code",
   "execution_count": 1,
   "metadata": {},
   "outputs": [],
   "source": [
    "# Import helper plotting functions\n",
    "# If you want to see the code, you can access it in here: \n",
    "# https://github.com/artoriusss/blockchain-fraud-analysis/blob/main/helpers.py\n",
    "from helpers import * "
   ]
  },
  {
   "cell_type": "markdown",
   "metadata": {},
   "source": [
    "## **0. Data loading & initial check**"
   ]
  },
  {
   "cell_type": "code",
   "execution_count": 2,
   "metadata": {},
   "outputs": [],
   "source": [
    "INPUT_CSV = \"data/test_dataset.csv\"\n",
    "df = pd.read_csv(INPUT_CSV)"
   ]
  },
  {
   "cell_type": "markdown",
   "metadata": {},
   "source": [
    "To get a high-level understanding of the data, let's print out some basic information:"
   ]
  },
  {
   "cell_type": "code",
   "execution_count": 3,
   "metadata": {},
   "outputs": [
    {
     "name": "stdout",
     "output_type": "stream",
     "text": [
      "Number of rows in a dataframe: 3923\n",
      "\n",
      "<class 'pandas.core.frame.DataFrame'>\n",
      "RangeIndex: 3923 entries, 0 to 3922\n",
      "Data columns (total 11 columns):\n",
      " #   Column                 Non-Null Count  Dtype \n",
      "---  ------                 --------------  ----- \n",
      " 0   address                3923 non-null   object\n",
      " 1   chain_id               3923 non-null   int64 \n",
      " 2   bytecode               3923 non-null   object\n",
      " 3   opcode                 3923 non-null   object\n",
      " 4   malicious_category_l1  550 non-null    object\n",
      " 5   malicious_category_l2  550 non-null    object\n",
      " 6   data_source            3923 non-null   object\n",
      " 7   man_validated          3791 non-null   object\n",
      " 8   man_validated_by       944 non-null    object\n",
      " 9   comment                1004 non-null   object\n",
      " 10  label                  3923 non-null   object\n",
      "dtypes: int64(1), object(10)\n",
      "memory usage: 337.3+ KB\n"
     ]
    }
   ],
   "source": [
    "print(f\"Number of rows in a dataframe: {df.shape[0]}\\n\")\n",
    "df.info()"
   ]
  },
  {
   "cell_type": "markdown",
   "metadata": {},
   "source": [
    "What we can tell from this print out? \n",
    "\n",
    "First of all, the number of non-empty records varies across different columns. In case of features like `man_validated_by` or `comment` the presence of missing values seems natural, since these are likely dependent on whether a particular record was validated by someone and if not, then we won't have any information there. \n",
    "\n",
    "However, the two fields representing malicious categories are more interesting. Not only because we have the smallest proportions of present values for them ($\\approx 14\\%$ of the total records number) but also because they are good candidates for our choice of a target varible (feature that we'll try to approximate with our model). So, let's analyse them more deeply."
   ]
  },
  {
   "cell_type": "markdown",
   "metadata": {},
   "source": [
    "## **1. Target variable analysis**"
   ]
  },
  {
   "cell_type": "markdown",
   "metadata": {},
   "source": [
    "We'll start with a simple barplot representing counts of different categories within the features. "
   ]
  },
  {
   "cell_type": "code",
   "execution_count": 4,
   "metadata": {},
   "outputs": [
    {
     "data": {
      "text/html": [
       "\n",
       "<style>\n",
       "  #altair-viz-c21f7b913da9491a8df0f4ac5d95d03f.vega-embed {\n",
       "    width: 100%;\n",
       "    display: flex;\n",
       "  }\n",
       "\n",
       "  #altair-viz-c21f7b913da9491a8df0f4ac5d95d03f.vega-embed details,\n",
       "  #altair-viz-c21f7b913da9491a8df0f4ac5d95d03f.vega-embed details summary {\n",
       "    position: relative;\n",
       "  }\n",
       "</style>\n",
       "<div id=\"altair-viz-c21f7b913da9491a8df0f4ac5d95d03f\"></div>\n",
       "<script type=\"text/javascript\">\n",
       "  var VEGA_DEBUG = (typeof VEGA_DEBUG == \"undefined\") ? {} : VEGA_DEBUG;\n",
       "  (function(spec, embedOpt){\n",
       "    let outputDiv = document.currentScript.previousElementSibling;\n",
       "    if (outputDiv.id !== \"altair-viz-c21f7b913da9491a8df0f4ac5d95d03f\") {\n",
       "      outputDiv = document.getElementById(\"altair-viz-c21f7b913da9491a8df0f4ac5d95d03f\");\n",
       "    }\n",
       "\n",
       "    const paths = {\n",
       "      \"vega\": \"https://cdn.jsdelivr.net/npm/vega@5?noext\",\n",
       "      \"vega-lib\": \"https://cdn.jsdelivr.net/npm/vega-lib?noext\",\n",
       "      \"vega-lite\": \"https://cdn.jsdelivr.net/npm/vega-lite@5.20.1?noext\",\n",
       "      \"vega-embed\": \"https://cdn.jsdelivr.net/npm/vega-embed@6?noext\",\n",
       "    };\n",
       "\n",
       "    function maybeLoadScript(lib, version) {\n",
       "      var key = `${lib.replace(\"-\", \"\")}_version`;\n",
       "      return (VEGA_DEBUG[key] == version) ?\n",
       "        Promise.resolve(paths[lib]) :\n",
       "        new Promise(function(resolve, reject) {\n",
       "          var s = document.createElement('script');\n",
       "          document.getElementsByTagName(\"head\")[0].appendChild(s);\n",
       "          s.async = true;\n",
       "          s.onload = () => {\n",
       "            VEGA_DEBUG[key] = version;\n",
       "            return resolve(paths[lib]);\n",
       "          };\n",
       "          s.onerror = () => reject(`Error loading script: ${paths[lib]}`);\n",
       "          s.src = paths[lib];\n",
       "        });\n",
       "    }\n",
       "\n",
       "    function showError(err) {\n",
       "      outputDiv.innerHTML = `<div class=\"error\" style=\"color:red;\">${err}</div>`;\n",
       "      throw err;\n",
       "    }\n",
       "\n",
       "    function displayChart(vegaEmbed) {\n",
       "      vegaEmbed(outputDiv, spec, embedOpt)\n",
       "        .catch(err => showError(`Javascript Error: ${err.message}<br>This usually means there's a typo in your chart specification. See the javascript console for the full traceback.`));\n",
       "    }\n",
       "\n",
       "    if(typeof define === \"function\" && define.amd) {\n",
       "      requirejs.config({paths});\n",
       "      let deps = [\"vega-embed\"];\n",
       "      require(deps, displayChart, err => showError(`Error loading script: ${err.message}`));\n",
       "    } else {\n",
       "      maybeLoadScript(\"vega\", \"5\")\n",
       "        .then(() => maybeLoadScript(\"vega-lite\", \"5.20.1\"))\n",
       "        .then(() => maybeLoadScript(\"vega-embed\", \"6\"))\n",
       "        .catch(showError)\n",
       "        .then(() => displayChart(vegaEmbed));\n",
       "    }\n",
       "  })({\"config\": {\"view\": {\"continuousWidth\": 300, \"continuousHeight\": 300}}, \"hconcat\": [{\"data\": {\"name\": \"data-7b005e770bf8478d9f5cdf6216dbcfeb\"}, \"mark\": {\"type\": \"bar\"}, \"encoding\": {\"tooltip\": [{\"field\": \"malicious_category_l1\", \"title\": \"Category\", \"type\": \"nominal\"}, {\"field\": \"count\", \"title\": \"Count\", \"type\": \"quantitative\"}], \"x\": {\"field\": \"malicious_category_l1\", \"sort\": {\"field\": \"count\", \"order\": \"descending\"}, \"title\": null, \"type\": \"nominal\"}, \"y\": {\"field\": \"count\", \"title\": null, \"type\": \"quantitative\"}}, \"height\": 300, \"title\": \"Counts for \\\"malicious_category_l1\\\" column\", \"width\": 300}, {\"data\": {\"name\": \"data-72c36f7c772ae8021b86a59adf8edad2\"}, \"mark\": {\"type\": \"bar\"}, \"encoding\": {\"tooltip\": [{\"field\": \"malicious_category_l2\", \"title\": \"Category\", \"type\": \"nominal\"}, {\"field\": \"count\", \"title\": \"Count\", \"type\": \"quantitative\"}], \"x\": {\"field\": \"malicious_category_l2\", \"sort\": {\"field\": \"count\", \"order\": \"descending\"}, \"title\": null, \"type\": \"nominal\"}, \"y\": {\"field\": \"count\", \"title\": null, \"type\": \"quantitative\"}}, \"height\": 300, \"title\": \"Counts for \\\"malicious_category_l2\\\" column\", \"width\": 300}], \"resolve\": {\"scale\": {\"y\": \"independent\"}}, \"$schema\": \"https://vega.github.io/schema/vega-lite/v5.20.1.json\", \"datasets\": {\"data-7b005e770bf8478d9f5cdf6216dbcfeb\": [{\"malicious_category_l1\": \"Cyber\", \"count\": 349}, {\"malicious_category_l1\": \"Fraud\", \"count\": 201}], \"data-72c36f7c772ae8021b86a59adf8edad2\": [{\"malicious_category_l2\": \"Exploit\", \"count\": 349}, {\"malicious_category_l2\": \"FinancialScam\", \"count\": 201}]}}, {\"mode\": \"vega-lite\"});\n",
       "</script>"
      ],
      "text/plain": [
       "alt.HConcatChart(...)"
      ]
     },
     "execution_count": 4,
     "metadata": {},
     "output_type": "execute_result"
    }
   ],
   "source": [
    "plot_category_counts(df, \"malicious_category_l1\", \"malicious_category_l2\")"
   ]
  },
  {
   "cell_type": "markdown",
   "metadata": {},
   "source": [
    "From the above chart, one thing immediately comes out as noteworthy: across both features, counts of different categories are distributed identically (exact counts can be revealed with tooltips if you hover over the bars of the charts). \n",
    "\n",
    "However, this pattern alone does not yet tell us that level1 `Cyber` category always goes with level2 `Exploit` category, or that `Fraud` always goes with `FinancialScam`. After all, the exact same count may have occurred by accident and these categories may be unrelated at all. So, we need to verify this. \n",
    "\n",
    "We could do it \"manually\", by simply counting cases of overlapping for each category. But we can use a simpler approach: encode categorical variables numerically and calculate the correlation matrix. This way, we'll see the entire picture all at once. "
   ]
  },
  {
   "cell_type": "code",
   "execution_count": 5,
   "metadata": {},
   "outputs": [
    {
     "data": {
      "text/html": [
       "\n",
       "<style>\n",
       "  #altair-viz-ebee8fd883e0407390591c6f8eb391d5.vega-embed {\n",
       "    width: 100%;\n",
       "    display: flex;\n",
       "  }\n",
       "\n",
       "  #altair-viz-ebee8fd883e0407390591c6f8eb391d5.vega-embed details,\n",
       "  #altair-viz-ebee8fd883e0407390591c6f8eb391d5.vega-embed details summary {\n",
       "    position: relative;\n",
       "  }\n",
       "</style>\n",
       "<div id=\"altair-viz-ebee8fd883e0407390591c6f8eb391d5\"></div>\n",
       "<script type=\"text/javascript\">\n",
       "  var VEGA_DEBUG = (typeof VEGA_DEBUG == \"undefined\") ? {} : VEGA_DEBUG;\n",
       "  (function(spec, embedOpt){\n",
       "    let outputDiv = document.currentScript.previousElementSibling;\n",
       "    if (outputDiv.id !== \"altair-viz-ebee8fd883e0407390591c6f8eb391d5\") {\n",
       "      outputDiv = document.getElementById(\"altair-viz-ebee8fd883e0407390591c6f8eb391d5\");\n",
       "    }\n",
       "\n",
       "    const paths = {\n",
       "      \"vega\": \"https://cdn.jsdelivr.net/npm/vega@5?noext\",\n",
       "      \"vega-lib\": \"https://cdn.jsdelivr.net/npm/vega-lib?noext\",\n",
       "      \"vega-lite\": \"https://cdn.jsdelivr.net/npm/vega-lite@5.20.1?noext\",\n",
       "      \"vega-embed\": \"https://cdn.jsdelivr.net/npm/vega-embed@6?noext\",\n",
       "    };\n",
       "\n",
       "    function maybeLoadScript(lib, version) {\n",
       "      var key = `${lib.replace(\"-\", \"\")}_version`;\n",
       "      return (VEGA_DEBUG[key] == version) ?\n",
       "        Promise.resolve(paths[lib]) :\n",
       "        new Promise(function(resolve, reject) {\n",
       "          var s = document.createElement('script');\n",
       "          document.getElementsByTagName(\"head\")[0].appendChild(s);\n",
       "          s.async = true;\n",
       "          s.onload = () => {\n",
       "            VEGA_DEBUG[key] = version;\n",
       "            return resolve(paths[lib]);\n",
       "          };\n",
       "          s.onerror = () => reject(`Error loading script: ${paths[lib]}`);\n",
       "          s.src = paths[lib];\n",
       "        });\n",
       "    }\n",
       "\n",
       "    function showError(err) {\n",
       "      outputDiv.innerHTML = `<div class=\"error\" style=\"color:red;\">${err}</div>`;\n",
       "      throw err;\n",
       "    }\n",
       "\n",
       "    function displayChart(vegaEmbed) {\n",
       "      vegaEmbed(outputDiv, spec, embedOpt)\n",
       "        .catch(err => showError(`Javascript Error: ${err.message}<br>This usually means there's a typo in your chart specification. See the javascript console for the full traceback.`));\n",
       "    }\n",
       "\n",
       "    if(typeof define === \"function\" && define.amd) {\n",
       "      requirejs.config({paths});\n",
       "      let deps = [\"vega-embed\"];\n",
       "      require(deps, displayChart, err => showError(`Error loading script: ${err.message}`));\n",
       "    } else {\n",
       "      maybeLoadScript(\"vega\", \"5\")\n",
       "        .then(() => maybeLoadScript(\"vega-lite\", \"5.20.1\"))\n",
       "        .then(() => maybeLoadScript(\"vega-embed\", \"6\"))\n",
       "        .catch(showError)\n",
       "        .then(() => displayChart(vegaEmbed));\n",
       "    }\n",
       "  })({\"config\": {\"view\": {\"continuousWidth\": 300, \"continuousHeight\": 300}}, \"layer\": [{\"mark\": {\"type\": \"rect\"}, \"encoding\": {\"color\": {\"condition\": {\"test\": \"datum.is_diagonal\", \"value\": \"rgba(0, 0, 0, 0.5)\"}, \"field\": \"value\", \"scale\": {\"scheme\": \"redpurple\"}, \"title\": \"Correlation\", \"type\": \"quantitative\"}, \"tooltip\": [{\"field\": \"x\", \"type\": \"nominal\"}, {\"field\": \"y\", \"type\": \"nominal\"}, {\"field\": \"value\", \"format\": \".3f\", \"type\": \"quantitative\"}], \"x\": {\"field\": \"x\", \"title\": \"\", \"type\": \"nominal\"}, \"y\": {\"field\": \"y\", \"title\": \"\", \"type\": \"nominal\"}}, \"title\": \"Correlation Matrix of Level1 and Level2 Malicious Categories\"}, {\"mark\": {\"type\": \"text\", \"baseline\": \"middle\"}, \"encoding\": {\"color\": {\"condition\": {\"test\": \"(datum.value < 0.5)\", \"value\": \"black\"}, \"value\": \"white\"}, \"text\": {\"condition\": {\"test\": \"datum.is_diagonal\", \"value\": \"\"}, \"field\": \"value\", \"format\": \".3f\", \"type\": \"quantitative\"}, \"tooltip\": [{\"field\": \"x\", \"type\": \"nominal\"}, {\"field\": \"y\", \"type\": \"nominal\"}, {\"field\": \"value\", \"format\": \".3f\", \"type\": \"quantitative\"}], \"x\": {\"field\": \"x\", \"title\": \"\", \"type\": \"nominal\"}, \"y\": {\"field\": \"y\", \"title\": \"\", \"type\": \"nominal\"}}, \"title\": \"Correlation Matrix of Level1 and Level2 Malicious Categories\"}], \"data\": {\"name\": \"data-1784bf3c81343f0755ed0f2a0a67c374\"}, \"height\": 400, \"width\": 400, \"$schema\": \"https://vega.github.io/schema/vega-lite/v5.20.1.json\", \"datasets\": {\"data-1784bf3c81343f0755ed0f2a0a67c374\": [{\"y\": \"L1_Cyber\", \"x\": \"L1_Cyber\", \"value\": 1.0, \"is_diagonal\": true}, {\"y\": \"L1_Fraud\", \"x\": \"L1_Cyber\", \"value\": -0.07261816721530702, \"is_diagonal\": false}, {\"y\": \"L2_Exploit\", \"x\": \"L1_Cyber\", \"value\": 1.0, \"is_diagonal\": false}, {\"y\": \"L2_FinancialScam\", \"x\": \"L1_Cyber\", \"value\": -0.07261816721530702, \"is_diagonal\": false}, {\"y\": \"L1_Fraud\", \"x\": \"L1_Fraud\", \"value\": 1.0, \"is_diagonal\": true}, {\"y\": \"L2_Exploit\", \"x\": \"L1_Fraud\", \"value\": -0.07261816721530702, \"is_diagonal\": false}, {\"y\": \"L2_FinancialScam\", \"x\": \"L1_Fraud\", \"value\": 1.0, \"is_diagonal\": false}, {\"y\": \"L2_Exploit\", \"x\": \"L2_Exploit\", \"value\": 1.0, \"is_diagonal\": true}, {\"y\": \"L2_FinancialScam\", \"x\": \"L2_Exploit\", \"value\": -0.07261816721530702, \"is_diagonal\": false}, {\"y\": \"L2_FinancialScam\", \"x\": \"L2_FinancialScam\", \"value\": 1.0, \"is_diagonal\": true}]}}, {\"mode\": \"vega-lite\"});\n",
       "</script>"
      ],
      "text/plain": [
       "alt.LayerChart(...)"
      ]
     },
     "metadata": {},
     "output_type": "display_data"
    }
   ],
   "source": [
    "l1_dummies = pd.get_dummies(df[\"malicious_category_l1\"], prefix=\"L1\") \n",
    "label_dummies = pd.get_dummies(df[\"malicious_category_l2\"], prefix=\"L2\")\n",
    "malicious_categories = pd.concat([l1_dummies, label_dummies], axis=1)\n",
    "\n",
    "plot_correlation_matrix(\n",
    "    df=malicious_categories, \n",
    "    title='Correlation Matrix of Level1 and Level2 Malicious Categories'\n",
    ")"
   ]
  },
  {
   "cell_type": "markdown",
   "metadata": {},
   "source": [
    "From the above chart, we can observe that categories from the 1st and the 2nd levels of malicious categories are *perfectly correlated*. \n",
    "\n",
    "In other words:\n",
    "\n",
    "- All observations labelled on 1st level as belonging to the `Cyber` category are *always* labelled as belonging to the `Exploit` category on the 2nd level; \n",
    "- All observations labelled on 1st level as belonging to the `Fraud` category are *always* labelled as belonging to the `FinancialScam` category on the 2nd level;  \n",
    "\n",
    "To put it even more simply, the two levels of malicious category labels do not give us any additional information about about our dataset. We can safely drop either the first or the second level feature without losing any valuable knowledge about the data. Moreover, this drop will also be necessary on later stages of modelling, since perfectly correlated training data itroduces *multicollinearity* that can strongly degrade the performance of our model.\n",
    "\n",
    "For this reason, we will move on with only `malicious_category_l1` column (again, this choice is arbitrary, we could keep `l2`)."
   ]
  },
  {
   "cell_type": "code",
   "execution_count": 6,
   "metadata": {},
   "outputs": [],
   "source": [
    "df.drop(columns=[\"malicious_category_l2\"], inplace=True)"
   ]
  },
  {
   "cell_type": "markdown",
   "metadata": {},
   "source": [
    "However, apart from malicious category, we have another column that we can choose as a target variable: a smart contract `label` column. It is important to analyse it as well."
   ]
  },
  {
   "cell_type": "code",
   "execution_count": 7,
   "metadata": {},
   "outputs": [
    {
     "data": {
      "text/html": [
       "\n",
       "<style>\n",
       "  #altair-viz-f4e6c63f5b14418baac1bf165c664614.vega-embed {\n",
       "    width: 100%;\n",
       "    display: flex;\n",
       "  }\n",
       "\n",
       "  #altair-viz-f4e6c63f5b14418baac1bf165c664614.vega-embed details,\n",
       "  #altair-viz-f4e6c63f5b14418baac1bf165c664614.vega-embed details summary {\n",
       "    position: relative;\n",
       "  }\n",
       "</style>\n",
       "<div id=\"altair-viz-f4e6c63f5b14418baac1bf165c664614\"></div>\n",
       "<script type=\"text/javascript\">\n",
       "  var VEGA_DEBUG = (typeof VEGA_DEBUG == \"undefined\") ? {} : VEGA_DEBUG;\n",
       "  (function(spec, embedOpt){\n",
       "    let outputDiv = document.currentScript.previousElementSibling;\n",
       "    if (outputDiv.id !== \"altair-viz-f4e6c63f5b14418baac1bf165c664614\") {\n",
       "      outputDiv = document.getElementById(\"altair-viz-f4e6c63f5b14418baac1bf165c664614\");\n",
       "    }\n",
       "\n",
       "    const paths = {\n",
       "      \"vega\": \"https://cdn.jsdelivr.net/npm/vega@5?noext\",\n",
       "      \"vega-lib\": \"https://cdn.jsdelivr.net/npm/vega-lib?noext\",\n",
       "      \"vega-lite\": \"https://cdn.jsdelivr.net/npm/vega-lite@5.20.1?noext\",\n",
       "      \"vega-embed\": \"https://cdn.jsdelivr.net/npm/vega-embed@6?noext\",\n",
       "    };\n",
       "\n",
       "    function maybeLoadScript(lib, version) {\n",
       "      var key = `${lib.replace(\"-\", \"\")}_version`;\n",
       "      return (VEGA_DEBUG[key] == version) ?\n",
       "        Promise.resolve(paths[lib]) :\n",
       "        new Promise(function(resolve, reject) {\n",
       "          var s = document.createElement('script');\n",
       "          document.getElementsByTagName(\"head\")[0].appendChild(s);\n",
       "          s.async = true;\n",
       "          s.onload = () => {\n",
       "            VEGA_DEBUG[key] = version;\n",
       "            return resolve(paths[lib]);\n",
       "          };\n",
       "          s.onerror = () => reject(`Error loading script: ${paths[lib]}`);\n",
       "          s.src = paths[lib];\n",
       "        });\n",
       "    }\n",
       "\n",
       "    function showError(err) {\n",
       "      outputDiv.innerHTML = `<div class=\"error\" style=\"color:red;\">${err}</div>`;\n",
       "      throw err;\n",
       "    }\n",
       "\n",
       "    function displayChart(vegaEmbed) {\n",
       "      vegaEmbed(outputDiv, spec, embedOpt)\n",
       "        .catch(err => showError(`Javascript Error: ${err.message}<br>This usually means there's a typo in your chart specification. See the javascript console for the full traceback.`));\n",
       "    }\n",
       "\n",
       "    if(typeof define === \"function\" && define.amd) {\n",
       "      requirejs.config({paths});\n",
       "      let deps = [\"vega-embed\"];\n",
       "      require(deps, displayChart, err => showError(`Error loading script: ${err.message}`));\n",
       "    } else {\n",
       "      maybeLoadScript(\"vega\", \"5\")\n",
       "        .then(() => maybeLoadScript(\"vega-lite\", \"5.20.1\"))\n",
       "        .then(() => maybeLoadScript(\"vega-embed\", \"6\"))\n",
       "        .catch(showError)\n",
       "        .then(() => displayChart(vegaEmbed));\n",
       "    }\n",
       "  })({\"config\": {\"view\": {\"continuousWidth\": 300, \"continuousHeight\": 300}}, \"layer\": [{\"mark\": {\"type\": \"rect\"}, \"encoding\": {\"color\": {\"condition\": {\"test\": \"datum.is_diagonal\", \"value\": \"rgba(0, 0, 0, 0.5)\"}, \"field\": \"value\", \"scale\": {\"scheme\": \"redpurple\"}, \"title\": \"Correlation\", \"type\": \"quantitative\"}, \"tooltip\": [{\"field\": \"x\", \"type\": \"nominal\"}, {\"field\": \"y\", \"type\": \"nominal\"}, {\"field\": \"value\", \"format\": \".3f\", \"type\": \"quantitative\"}], \"x\": {\"field\": \"x\", \"title\": \"\", \"type\": \"nominal\"}, \"y\": {\"field\": \"y\", \"title\": \"\", \"type\": \"nominal\"}}, \"title\": \"Correlation Matrix of Level1 Malicious Categories and Smart Contract Labels\"}, {\"mark\": {\"type\": \"text\", \"baseline\": \"middle\"}, \"encoding\": {\"color\": {\"condition\": {\"test\": \"(datum.value < 0.5)\", \"value\": \"black\"}, \"value\": \"white\"}, \"text\": {\"condition\": {\"test\": \"datum.is_diagonal\", \"value\": \"\"}, \"field\": \"value\", \"format\": \".3f\", \"type\": \"quantitative\"}, \"tooltip\": [{\"field\": \"x\", \"type\": \"nominal\"}, {\"field\": \"y\", \"type\": \"nominal\"}, {\"field\": \"value\", \"format\": \".3f\", \"type\": \"quantitative\"}], \"x\": {\"field\": \"x\", \"title\": \"\", \"type\": \"nominal\"}, \"y\": {\"field\": \"y\", \"title\": \"\", \"type\": \"nominal\"}}, \"title\": \"Correlation Matrix of Level1 Malicious Categories and Smart Contract Labels\"}], \"data\": {\"name\": \"data-72cb7fb7f881e781fc03eecb2eb05e6b\"}, \"height\": 400, \"width\": 400, \"$schema\": \"https://vega.github.io/schema/vega-lite/v5.20.1.json\", \"datasets\": {\"data-72cb7fb7f881e781fc03eecb2eb05e6b\": [{\"y\": \"L1_Cyber\", \"x\": \"L1_Cyber\", \"value\": 1.0, \"is_diagonal\": true}, {\"y\": \"L1_Fraud\", \"x\": \"L1_Cyber\", \"value\": -0.07261816721530702, \"is_diagonal\": false}, {\"y\": \"Label_Clean\", \"x\": \"L1_Cyber\", \"value\": -0.7746790410725031, \"is_diagonal\": false}, {\"y\": \"Label_Exploit\", \"x\": \"L1_Cyber\", \"value\": 1.0, \"is_diagonal\": false}, {\"y\": \"Label_FinancialScam\", \"x\": \"L1_Cyber\", \"value\": -0.07242757076418514, \"is_diagonal\": false}, {\"y\": \"L1_Fraud\", \"x\": \"L1_Fraud\", \"value\": 1.0, \"is_diagonal\": true}, {\"y\": \"Label_Clean\", \"x\": \"L1_Fraud\", \"value\": -0.5727652679088678, \"is_diagonal\": false}, {\"y\": \"Label_Exploit\", \"x\": \"L1_Fraud\", \"value\": -0.07261816721530702, \"is_diagonal\": false}, {\"y\": \"Label_FinancialScam\", \"x\": \"L1_Fraud\", \"value\": 0.99737536131204, \"is_diagonal\": false}, {\"y\": \"Label_Clean\", \"x\": \"Label_Clean\", \"value\": 1.0, \"is_diagonal\": true}, {\"y\": \"Label_Exploit\", \"x\": \"Label_Clean\", \"value\": -0.774679041072503, \"is_diagonal\": false}, {\"y\": \"Label_FinancialScam\", \"x\": \"Label_Clean\", \"value\": -0.574585744105379, \"is_diagonal\": false}, {\"y\": \"Label_Exploit\", \"x\": \"Label_Exploit\", \"value\": 1.0, \"is_diagonal\": true}, {\"y\": \"Label_FinancialScam\", \"x\": \"Label_Exploit\", \"value\": -0.07242757076418514, \"is_diagonal\": false}, {\"y\": \"Label_FinancialScam\", \"x\": \"Label_FinancialScam\", \"value\": 1.0, \"is_diagonal\": true}]}}, {\"mode\": \"vega-lite\"});\n",
       "</script>"
      ],
      "text/plain": [
       "alt.LayerChart(...)"
      ]
     },
     "metadata": {},
     "output_type": "display_data"
    }
   ],
   "source": [
    "label_dummies = pd.get_dummies(df[\"label\"], prefix=\"Label\")\n",
    "malicious_categories = pd.concat([l1_dummies, label_dummies], axis=1)\n",
    "\n",
    "plot_correlation_matrix(\n",
    "    df=malicious_categories, \n",
    "    title='Correlation Matrix of Level1 Malicious Categories and Smart Contract Labels'\n",
    ")"
   ]
  },
  {
   "cell_type": "markdown",
   "metadata": {},
   "source": [
    "We can again observe a very similar pattern: level1 malicious `Cyber` category is perfectly correlated with `Exploit` label. The same is true for category `Fraud` and `FinancialScam` label. However, in this case we can also note that the correlation coefficient is very close to $1$ but is not exactly $1$. \n",
    "\n",
    "This signifies that there are row(s) where the `Fraud` malicious category does not correspond to `FinancialScam` label, but some other label. Let's verify if this is the case. "
   ]
  },
  {
   "cell_type": "code",
   "execution_count": 8,
   "metadata": {},
   "outputs": [
    {
     "data": {
      "text/html": [
       "<div>\n",
       "<style scoped>\n",
       "    .dataframe tbody tr th:only-of-type {\n",
       "        vertical-align: middle;\n",
       "    }\n",
       "\n",
       "    .dataframe tbody tr th {\n",
       "        vertical-align: top;\n",
       "    }\n",
       "\n",
       "    .dataframe thead th {\n",
       "        text-align: right;\n",
       "    }\n",
       "</style>\n",
       "<table border=\"1\" class=\"dataframe\">\n",
       "  <thead>\n",
       "    <tr style=\"text-align: right;\">\n",
       "      <th></th>\n",
       "      <th>chain_id</th>\n",
       "      <th>malicious_category_l1</th>\n",
       "      <th>label</th>\n",
       "    </tr>\n",
       "  </thead>\n",
       "  <tbody>\n",
       "  </tbody>\n",
       "</table>\n",
       "</div>"
      ],
      "text/plain": [
       "Empty DataFrame\n",
       "Columns: [chain_id, malicious_category_l1, label]\n",
       "Index: []"
      ]
     },
     "execution_count": 8,
     "metadata": {},
     "output_type": "execute_result"
    }
   ],
   "source": [
    "selected_rows = df[\n",
    "    (df[\"malicious_category_l1\"] == \"Fraud\") & \n",
    "    (df[\"label\"] == \"Exploit\")\n",
    "]  # Check if there are any frauds that are labelled as exploits\n",
    "\n",
    "selected_rows[[\"chain_id\", \"malicious_category_l1\", \"label\"]]"
   ]
  },
  {
   "cell_type": "code",
   "execution_count": 9,
   "metadata": {},
   "outputs": [
    {
     "data": {
      "text/html": [
       "<div>\n",
       "<style scoped>\n",
       "    .dataframe tbody tr th:only-of-type {\n",
       "        vertical-align: middle;\n",
       "    }\n",
       "\n",
       "    .dataframe tbody tr th {\n",
       "        vertical-align: top;\n",
       "    }\n",
       "\n",
       "    .dataframe thead th {\n",
       "        text-align: right;\n",
       "    }\n",
       "</style>\n",
       "<table border=\"1\" class=\"dataframe\">\n",
       "  <thead>\n",
       "    <tr style=\"text-align: right;\">\n",
       "      <th></th>\n",
       "      <th>chain_id</th>\n",
       "      <th>malicious_category_l1</th>\n",
       "      <th>label</th>\n",
       "    </tr>\n",
       "  </thead>\n",
       "  <tbody>\n",
       "    <tr>\n",
       "      <th>2242</th>\n",
       "      <td>56</td>\n",
       "      <td>Fraud</td>\n",
       "      <td>Clean</td>\n",
       "    </tr>\n",
       "  </tbody>\n",
       "</table>\n",
       "</div>"
      ],
      "text/plain": [
       "      chain_id malicious_category_l1  label\n",
       "2242        56                 Fraud  Clean"
      ]
     },
     "execution_count": 9,
     "metadata": {},
     "output_type": "execute_result"
    }
   ],
   "source": [
    "selected_rows = df[\n",
    "    (df[\"malicious_category_l1\"] == \"Fraud\") & \n",
    "    (df[\"label\"] == \"Clean\")\n",
    "]  # Check if there are any frauds that are labelled as clean \n",
    "\n",
    "selected_rows[[\"chain_id\", \"malicious_category_l1\", \"label\"]]"
   ]
  },
  {
   "cell_type": "markdown",
   "metadata": {},
   "source": [
    "Indeed, we see that there's one record where malicious category does not correspond to the label assigned by smart contract. Clearly, the two categories `Fraud` and `Clean` are mutually exclusive and one of the columns must hold an incorrect value, but we don't know for sure which exactly does. \n",
    "\n",
    "So, as we saw above, because the two features `malicious_category_l1` and `label` resemble (almost) perfect correlation, it's better to drop one of them as before. But in this case, the columns carry contradicting information, so we need to make a choice about which column to keep and which one to drop. "
   ]
  },
  {
   "cell_type": "code",
   "execution_count": 10,
   "metadata": {},
   "outputs": [
    {
     "data": {
      "text/html": [
       "<div>\n",
       "<style scoped>\n",
       "    .dataframe tbody tr th:only-of-type {\n",
       "        vertical-align: middle;\n",
       "    }\n",
       "\n",
       "    .dataframe tbody tr th {\n",
       "        vertical-align: top;\n",
       "    }\n",
       "\n",
       "    .dataframe thead th {\n",
       "        text-align: right;\n",
       "    }\n",
       "</style>\n",
       "<table border=\"1\" class=\"dataframe\">\n",
       "  <thead>\n",
       "    <tr style=\"text-align: right;\">\n",
       "      <th></th>\n",
       "      <th>chain_id</th>\n",
       "      <th>data_source</th>\n",
       "      <th>man_validated</th>\n",
       "      <th>man_validated_by</th>\n",
       "      <th>comment</th>\n",
       "    </tr>\n",
       "  </thead>\n",
       "  <tbody>\n",
       "    <tr>\n",
       "      <th>2242</th>\n",
       "      <td>56</td>\n",
       "      <td>Public_Historical_Data</td>\n",
       "      <td>NaN</td>\n",
       "      <td>NaN</td>\n",
       "      <td>reported by HashDit, ponzi</td>\n",
       "    </tr>\n",
       "  </tbody>\n",
       "</table>\n",
       "</div>"
      ],
      "text/plain": [
       "      chain_id             data_source man_validated man_validated_by  \\\n",
       "2242        56  Public_Historical_Data           NaN              NaN   \n",
       "\n",
       "                         comment  \n",
       "2242  reported by HashDit, ponzi  "
      ]
     },
     "execution_count": 10,
     "metadata": {},
     "output_type": "execute_result"
    }
   ],
   "source": [
    "selected_rows[[\"chain_id\", \"data_source\", \"man_validated\", \"man_validated_by\", \"comment\"]]"
   ]
  },
  {
   "cell_type": "markdown",
   "metadata": {},
   "source": [
    "The record with contradicting labels comes from public historical data and we cannot trust it for sure, so it may be safer to treat smart contract labelled data as more credible in this case. That's why we'll drop the `malicious_category_l1` column and move on with `label` only. Moreover, we will use it as a target variable, since we eliminated other candidates during our analysis."
   ]
  },
  {
   "cell_type": "code",
   "execution_count": 11,
   "metadata": {},
   "outputs": [],
   "source": [
    "df.drop(columns=[\"malicious_category_l1\"], inplace=True)"
   ]
  },
  {
   "cell_type": "markdown",
   "metadata": {},
   "source": [
    "## **2. Duplicates & missing values**"
   ]
  },
  {
   "cell_type": "markdown",
   "metadata": {},
   "source": [
    "Let's now check our dataset on the presence of duplicates. Because each smart contract deployed on blockchain has its own unique address, it makes sense to focus on this column."
   ]
  },
  {
   "cell_type": "code",
   "execution_count": 12,
   "metadata": {},
   "outputs": [
    {
     "name": "stdout",
     "output_type": "stream",
     "text": [
      "Number of duplicated rows: 16\n"
     ]
    },
    {
     "data": {
      "text/plain": [
       "label\n",
       "Clean      13\n",
       "Exploit     3\n",
       "Name: count, dtype: int64"
      ]
     },
     "execution_count": 12,
     "metadata": {},
     "output_type": "execute_result"
    }
   ],
   "source": [
    "duplicate_rows = df[df.duplicated(subset=[\"address\"])]\n",
    "print(f\"Number of duplicated rows: {duplicate_rows.shape[0]}\")\n",
    "duplicate_rows.value_counts(\"label\")"
   ]
  },
  {
   "cell_type": "markdown",
   "metadata": {},
   "source": [
    "As we can see, most of the duplicates belong to clean transactions. However, we still have 3 duplicated rows of fraudulent transactions labelled as `Exploit`. While this may not sound like a lot, we should remember that our dataset is rather imbalanced, meaning that fraudulent transactions are underrepresented compared to the clean ones. For that reason, we may keep these 3 duplicates belonging to malicious transactions and drop only clean ones. "
   ]
  },
  {
   "cell_type": "code",
   "execution_count": 13,
   "metadata": {},
   "outputs": [],
   "source": [
    "df = df[~(df.duplicated(subset=[\"address\"]) & (df[\"label\"] == \"Clean\"))]"
   ]
  },
  {
   "cell_type": "markdown",
   "metadata": {},
   "source": [
    "## **3. Analysis, Feature engineering**"
   ]
  },
  {
   "cell_type": "markdown",
   "metadata": {},
   "source": [
    "In this section, our goal is to explore relevant patterns and relations in the data. This step is crucial, as it will lay foundation for the final preprocessed training dataset and modelling.\n",
    "\n",
    "Let's start by exploring some relations of our target variable with other available features."
   ]
  },
  {
   "cell_type": "markdown",
   "metadata": {},
   "source": [
    "### **3.1 `data_source` and `chain_id`**"
   ]
  },
  {
   "cell_type": "code",
   "execution_count": 14,
   "metadata": {},
   "outputs": [
    {
     "data": {
      "text/html": [
       "\n",
       "<style>\n",
       "  #altair-viz-39a54b99f67a4fe98ac5f930a30eaf67.vega-embed {\n",
       "    width: 100%;\n",
       "    display: flex;\n",
       "  }\n",
       "\n",
       "  #altair-viz-39a54b99f67a4fe98ac5f930a30eaf67.vega-embed details,\n",
       "  #altair-viz-39a54b99f67a4fe98ac5f930a30eaf67.vega-embed details summary {\n",
       "    position: relative;\n",
       "  }\n",
       "</style>\n",
       "<div id=\"altair-viz-39a54b99f67a4fe98ac5f930a30eaf67\"></div>\n",
       "<script type=\"text/javascript\">\n",
       "  var VEGA_DEBUG = (typeof VEGA_DEBUG == \"undefined\") ? {} : VEGA_DEBUG;\n",
       "  (function(spec, embedOpt){\n",
       "    let outputDiv = document.currentScript.previousElementSibling;\n",
       "    if (outputDiv.id !== \"altair-viz-39a54b99f67a4fe98ac5f930a30eaf67\") {\n",
       "      outputDiv = document.getElementById(\"altair-viz-39a54b99f67a4fe98ac5f930a30eaf67\");\n",
       "    }\n",
       "\n",
       "    const paths = {\n",
       "      \"vega\": \"https://cdn.jsdelivr.net/npm/vega@5?noext\",\n",
       "      \"vega-lib\": \"https://cdn.jsdelivr.net/npm/vega-lib?noext\",\n",
       "      \"vega-lite\": \"https://cdn.jsdelivr.net/npm/vega-lite@5.20.1?noext\",\n",
       "      \"vega-embed\": \"https://cdn.jsdelivr.net/npm/vega-embed@6?noext\",\n",
       "    };\n",
       "\n",
       "    function maybeLoadScript(lib, version) {\n",
       "      var key = `${lib.replace(\"-\", \"\")}_version`;\n",
       "      return (VEGA_DEBUG[key] == version) ?\n",
       "        Promise.resolve(paths[lib]) :\n",
       "        new Promise(function(resolve, reject) {\n",
       "          var s = document.createElement('script');\n",
       "          document.getElementsByTagName(\"head\")[0].appendChild(s);\n",
       "          s.async = true;\n",
       "          s.onload = () => {\n",
       "            VEGA_DEBUG[key] = version;\n",
       "            return resolve(paths[lib]);\n",
       "          };\n",
       "          s.onerror = () => reject(`Error loading script: ${paths[lib]}`);\n",
       "          s.src = paths[lib];\n",
       "        });\n",
       "    }\n",
       "\n",
       "    function showError(err) {\n",
       "      outputDiv.innerHTML = `<div class=\"error\" style=\"color:red;\">${err}</div>`;\n",
       "      throw err;\n",
       "    }\n",
       "\n",
       "    function displayChart(vegaEmbed) {\n",
       "      vegaEmbed(outputDiv, spec, embedOpt)\n",
       "        .catch(err => showError(`Javascript Error: ${err.message}<br>This usually means there's a typo in your chart specification. See the javascript console for the full traceback.`));\n",
       "    }\n",
       "\n",
       "    if(typeof define === \"function\" && define.amd) {\n",
       "      requirejs.config({paths});\n",
       "      let deps = [\"vega-embed\"];\n",
       "      require(deps, displayChart, err => showError(`Error loading script: ${err.message}`));\n",
       "    } else {\n",
       "      maybeLoadScript(\"vega\", \"5\")\n",
       "        .then(() => maybeLoadScript(\"vega-lite\", \"5.20.1\"))\n",
       "        .then(() => maybeLoadScript(\"vega-embed\", \"6\"))\n",
       "        .catch(showError)\n",
       "        .then(() => displayChart(vegaEmbed));\n",
       "    }\n",
       "  })({\"config\": {\"view\": {\"continuousWidth\": 300, \"continuousHeight\": 300}}, \"hconcat\": [{\"data\": {\"name\": \"data-d9999c49f49550e16dffe04b8327b5e5\"}, \"mark\": {\"type\": \"bar\"}, \"encoding\": {\"color\": {\"field\": \"label\", \"sort\": {\"field\": \"count\", \"op\": \"sum\", \"order\": \"descending\"}, \"title\": \"label\", \"type\": \"nominal\"}, \"tooltip\": [{\"field\": \"data_source\", \"type\": \"nominal\"}, {\"field\": \"label\", \"type\": \"nominal\"}, {\"field\": \"count\", \"type\": \"quantitative\"}], \"x\": {\"field\": \"data_source\", \"sort\": {\"field\": \"count\", \"op\": \"sum\", \"order\": \"descending\"}, \"title\": \"data_source\", \"type\": \"nominal\"}, \"y\": {\"field\": \"count\", \"title\": \"Count\", \"type\": \"quantitative\"}}, \"height\": 400, \"title\": \"Counts of label per data_source\", \"width\": 500}, {\"data\": {\"name\": \"data-a5c846e9f6e892d789c8a86c1acf3c72\"}, \"mark\": {\"type\": \"bar\"}, \"encoding\": {\"color\": {\"field\": \"label\", \"sort\": {\"field\": \"count\", \"op\": \"sum\", \"order\": \"descending\"}, \"title\": \"label\", \"type\": \"nominal\"}, \"tooltip\": [{\"field\": \"chain_id\", \"type\": \"quantitative\"}, {\"field\": \"label\", \"type\": \"nominal\"}, {\"field\": \"count\", \"type\": \"quantitative\"}], \"x\": {\"field\": \"chain_id\", \"sort\": {\"field\": \"count\", \"op\": \"sum\", \"order\": \"descending\"}, \"title\": \"chain_id\", \"type\": \"nominal\"}, \"y\": {\"field\": \"count\", \"title\": \"Count\", \"type\": \"quantitative\"}}, \"height\": 400, \"title\": \"Counts of label per chain_id\", \"width\": 500}], \"resolve\": {\"scale\": {\"color\": \"independent\"}}, \"$schema\": \"https://vega.github.io/schema/vega-lite/v5.20.1.json\", \"datasets\": {\"data-d9999c49f49550e16dffe04b8327b5e5\": [{\"data_source\": \"Manual_Validation\", \"label\": \"Clean\", \"count\": 609}, {\"data_source\": \"Manual_Validation\", \"label\": \"Exploit\", \"count\": 11}, {\"data_source\": \"Manual_Validation\", \"label\": \"FinancialScam\", \"count\": 106}, {\"data_source\": \"Monitoring_and_Feedback\", \"label\": \"Clean\", \"count\": 35}, {\"data_source\": \"Monitoring_and_Feedback\", \"label\": \"Exploit\", \"count\": 17}, {\"data_source\": \"Monitoring_and_Feedback\", \"label\": \"FinancialScam\", \"count\": 63}, {\"data_source\": \"Public_Historical_Data\", \"label\": \"Clean\", \"count\": 4}, {\"data_source\": \"Public_Historical_Data\", \"label\": \"Exploit\", \"count\": 320}, {\"data_source\": \"Public_Historical_Data\", \"label\": \"FinancialScam\", \"count\": 29}, {\"data_source\": \"Random_Data\", \"label\": \"Clean\", \"count\": 363}, {\"data_source\": \"Random_Data\", \"label\": \"Exploit\", \"count\": 1}, {\"data_source\": \"Random_Data\", \"label\": \"FinancialScam\", \"count\": 2}, {\"data_source\": \"White_Lists\", \"label\": \"Clean\", \"count\": 2350}], \"data-a5c846e9f6e892d789c8a86c1acf3c72\": [{\"chain_id\": 1, \"label\": \"Clean\", \"count\": 2074}, {\"chain_id\": 1, \"label\": \"Exploit\", \"count\": 113}, {\"chain_id\": 1, \"label\": \"FinancialScam\", \"count\": 39}, {\"chain_id\": 10, \"label\": \"Clean\", \"count\": 41}, {\"chain_id\": 10, \"label\": \"FinancialScam\", \"count\": 6}, {\"chain_id\": 56, \"label\": \"Clean\", \"count\": 278}, {\"chain_id\": 56, \"label\": \"Exploit\", \"count\": 155}, {\"chain_id\": 56, \"label\": \"FinancialScam\", \"count\": 98}, {\"chain_id\": 137, \"label\": \"Clean\", \"count\": 338}, {\"chain_id\": 137, \"label\": \"Exploit\", \"count\": 38}, {\"chain_id\": 137, \"label\": \"FinancialScam\", \"count\": 32}, {\"chain_id\": 42161, \"label\": \"Clean\", \"count\": 422}, {\"chain_id\": 42161, \"label\": \"Exploit\", \"count\": 24}, {\"chain_id\": 42161, \"label\": \"FinancialScam\", \"count\": 17}, {\"chain_id\": 43114, \"label\": \"Clean\", \"count\": 173}, {\"chain_id\": 43114, \"label\": \"Exploit\", \"count\": 16}, {\"chain_id\": 43114, \"label\": \"FinancialScam\", \"count\": 5}, {\"chain_id\": 99999, \"label\": \"Clean\", \"count\": 35}, {\"chain_id\": 99999, \"label\": \"Exploit\", \"count\": 3}, {\"chain_id\": 99999, \"label\": \"FinancialScam\", \"count\": 3}]}}, {\"mode\": \"vega-lite\"});\n",
       "</script>"
      ],
      "text/plain": [
       "alt.HConcatChart(...)"
      ]
     },
     "metadata": {},
     "output_type": "display_data"
    }
   ],
   "source": [
    "plot_categorical_bar_charts(df, [{'x': \"data_source\", 'y': \"label\"}, {'x': \"chain_id\", 'y': \"label\"}])"
   ]
  },
  {
   "cell_type": "markdown",
   "metadata": {},
   "source": [
    "Let's go through both charts one step at a time:\n",
    "\n",
    "- On the first one, it is clear that malicious records distribution is heavily dependent on the datasource. For instance, while `White_Lists` category speaks for itself, records obtained from historical data and monitoring are represented largely by fraudulent transactions. All of this gives us very valuable knowledge about the target variable.\n",
    "\n",
    "- From the second plot, it is also notable that the proportion of fradulent transactions is somewhat correlated with `chain_id` (for instance, more than a half records with id `56` labelled as malicious, but only small percentages are in case of other chain ids).\n",
    "\n",
    "This tells us that the both analysed variables are important when it comes to their ability to describe the distribution of a target variable."
   ]
  },
  {
   "cell_type": "markdown",
   "metadata": {},
   "source": [
    "### **3.2 Comments**"
   ]
  },
  {
   "cell_type": "code",
   "execution_count": 15,
   "metadata": {},
   "outputs": [
    {
     "name": "stdout",
     "output_type": "stream",
     "text": [
      "Number of non-null comments: 1003\n"
     ]
    }
   ],
   "source": [
    "non_null_comments_count = df['comment'].notnull().sum()\n",
    "print(f\"Number of non-null comments: {non_null_comments_count}\")"
   ]
  },
  {
   "cell_type": "markdown",
   "metadata": {},
   "source": [
    "As we see, comments are present just in one third of the entire dataset. While this may seem like a bad thing because of the insufficient data, *the presence* of the comment can tell us a lot about the target variable. So let's split the dataset into two parts: with comments missing and present and see if there are any interesting patterns here. "
   ]
  },
  {
   "cell_type": "code",
   "execution_count": 16,
   "metadata": {},
   "outputs": [
    {
     "data": {
      "text/html": [
       "\n",
       "<style>\n",
       "  #altair-viz-c929b42f8d6f4770bf91ade91f136844.vega-embed {\n",
       "    width: 100%;\n",
       "    display: flex;\n",
       "  }\n",
       "\n",
       "  #altair-viz-c929b42f8d6f4770bf91ade91f136844.vega-embed details,\n",
       "  #altair-viz-c929b42f8d6f4770bf91ade91f136844.vega-embed details summary {\n",
       "    position: relative;\n",
       "  }\n",
       "</style>\n",
       "<div id=\"altair-viz-c929b42f8d6f4770bf91ade91f136844\"></div>\n",
       "<script type=\"text/javascript\">\n",
       "  var VEGA_DEBUG = (typeof VEGA_DEBUG == \"undefined\") ? {} : VEGA_DEBUG;\n",
       "  (function(spec, embedOpt){\n",
       "    let outputDiv = document.currentScript.previousElementSibling;\n",
       "    if (outputDiv.id !== \"altair-viz-c929b42f8d6f4770bf91ade91f136844\") {\n",
       "      outputDiv = document.getElementById(\"altair-viz-c929b42f8d6f4770bf91ade91f136844\");\n",
       "    }\n",
       "\n",
       "    const paths = {\n",
       "      \"vega\": \"https://cdn.jsdelivr.net/npm/vega@5?noext\",\n",
       "      \"vega-lib\": \"https://cdn.jsdelivr.net/npm/vega-lib?noext\",\n",
       "      \"vega-lite\": \"https://cdn.jsdelivr.net/npm/vega-lite@5.20.1?noext\",\n",
       "      \"vega-embed\": \"https://cdn.jsdelivr.net/npm/vega-embed@6?noext\",\n",
       "    };\n",
       "\n",
       "    function maybeLoadScript(lib, version) {\n",
       "      var key = `${lib.replace(\"-\", \"\")}_version`;\n",
       "      return (VEGA_DEBUG[key] == version) ?\n",
       "        Promise.resolve(paths[lib]) :\n",
       "        new Promise(function(resolve, reject) {\n",
       "          var s = document.createElement('script');\n",
       "          document.getElementsByTagName(\"head\")[0].appendChild(s);\n",
       "          s.async = true;\n",
       "          s.onload = () => {\n",
       "            VEGA_DEBUG[key] = version;\n",
       "            return resolve(paths[lib]);\n",
       "          };\n",
       "          s.onerror = () => reject(`Error loading script: ${paths[lib]}`);\n",
       "          s.src = paths[lib];\n",
       "        });\n",
       "    }\n",
       "\n",
       "    function showError(err) {\n",
       "      outputDiv.innerHTML = `<div class=\"error\" style=\"color:red;\">${err}</div>`;\n",
       "      throw err;\n",
       "    }\n",
       "\n",
       "    function displayChart(vegaEmbed) {\n",
       "      vegaEmbed(outputDiv, spec, embedOpt)\n",
       "        .catch(err => showError(`Javascript Error: ${err.message}<br>This usually means there's a typo in your chart specification. See the javascript console for the full traceback.`));\n",
       "    }\n",
       "\n",
       "    if(typeof define === \"function\" && define.amd) {\n",
       "      requirejs.config({paths});\n",
       "      let deps = [\"vega-embed\"];\n",
       "      require(deps, displayChart, err => showError(`Error loading script: ${err.message}`));\n",
       "    } else {\n",
       "      maybeLoadScript(\"vega\", \"5\")\n",
       "        .then(() => maybeLoadScript(\"vega-lite\", \"5.20.1\"))\n",
       "        .then(() => maybeLoadScript(\"vega-embed\", \"6\"))\n",
       "        .catch(showError)\n",
       "        .then(() => displayChart(vegaEmbed));\n",
       "    }\n",
       "  })({\"config\": {\"view\": {\"continuousWidth\": 300, \"continuousHeight\": 300}}, \"hconcat\": [{\"data\": {\"name\": \"data-df37adcb3ce51db8ffeabbfa7cc849ab\"}, \"mark\": {\"type\": \"arc\", \"innerRadius\": 70}, \"encoding\": {\"color\": {\"field\": \"label\", \"type\": \"nominal\"}, \"theta\": {\"field\": \"count\", \"type\": \"quantitative\"}, \"tooltip\": [{\"field\": \"label\", \"type\": \"nominal\"}, {\"field\": \"count\", \"type\": \"quantitative\"}]}, \"title\": \"Labels Distribution (Null Comments)\"}, {\"data\": {\"name\": \"data-b0cbe99632e4b73126f2854ec93b074f\"}, \"mark\": {\"type\": \"arc\", \"innerRadius\": 70}, \"encoding\": {\"color\": {\"field\": \"label\", \"legend\": null, \"type\": \"nominal\"}, \"theta\": {\"field\": \"count\", \"type\": \"quantitative\"}, \"tooltip\": [{\"field\": \"label\", \"type\": \"nominal\"}, {\"field\": \"count\", \"type\": \"quantitative\"}]}, \"title\": \"Labels Distribution (Non-Null Comments)\"}], \"resolve\": {\"scale\": {\"color\": \"independent\"}}, \"$schema\": \"https://vega.github.io/schema/vega-lite/v5.20.1.json\", \"datasets\": {\"data-df37adcb3ce51db8ffeabbfa7cc849ab\": [{\"label\": \"Clean\", \"count\": 2747}, {\"label\": \"Exploit\", \"count\": 144}, {\"label\": \"FinancialScam\", \"count\": 16}], \"data-b0cbe99632e4b73126f2854ec93b074f\": [{\"label\": \"Clean\", \"count\": 614}, {\"label\": \"Exploit\", \"count\": 205}, {\"label\": \"FinancialScam\", \"count\": 184}]}}, {\"mode\": \"vega-lite\"});\n",
       "</script>"
      ],
      "text/plain": [
       "alt.HConcatChart(...)"
      ]
     },
     "metadata": {},
     "output_type": "display_data"
    }
   ],
   "source": [
    "plot_label_distribution_by_comment(df)"
   ]
  },
  {
   "cell_type": "markdown",
   "metadata": {},
   "source": [
    "Turns out that a bit less than a half of the record with comments belong to fraudulent transactions! This makes sense, since reviewers usually can often write comments when there's something important to pay attention to, and fraudulent transactions are of great importance for sure.\n",
    "\n",
    "Again, we can take advantage of this pattern and create a new boolean feture: `commented`. \n",
    "\n",
    "(we could also extract some information from the comments (for instance, we could categorise comments as identifying \"good\" and \"bad\" properties of transactions), but this is a more advanced task and we'll skip it for now)."
   ]
  },
  {
   "cell_type": "code",
   "execution_count": 17,
   "metadata": {},
   "outputs": [],
   "source": [
    "df[\"is_commented\"] = df[\"comment\"].notnull()"
   ]
  },
  {
   "cell_type": "markdown",
   "metadata": {},
   "source": [
    "### **3.3 `opcode`**"
   ]
  },
  {
   "cell_type": "markdown",
   "metadata": {},
   "source": [
    "Another important feature is `opcode`. To see if it can serve us as a good predictor, we can divide the opcode into atomic parts (split by space) and compare the most frequent sequences of opcodes in clean and malicious transactions."
   ]
  },
  {
   "cell_type": "code",
   "execution_count": 18,
   "metadata": {},
   "outputs": [],
   "source": [
    "from collections import Counter\n",
    "\n",
    "def most_frequent_opcode_sequence(opcode_str: str, n: int = 3) -> str:\n",
    "    opcodes = opcode_str.split()\n",
    "    sequences = [' '.join(opcodes[i:i+n]) for i in range(len(opcodes) - n + 1)]\n",
    "    sequence_counts = Counter(sequences)\n",
    "    most_common_sequence = sequence_counts.most_common(1)[0][0]\n",
    "    return most_common_sequence\n",
    "\n",
    "df['most_frequent_opcodes'] = df['opcode'].apply(most_frequent_opcode_sequence, n=5)"
   ]
  },
  {
   "cell_type": "markdown",
   "metadata": {},
   "source": [
    "Here's how the dataset looks like after splitting and extracting the most frequent opcode sequences:"
   ]
  },
  {
   "cell_type": "code",
   "execution_count": 19,
   "metadata": {},
   "outputs": [
    {
     "data": {
      "text/plain": [
       "most_frequent_opcodes\n",
       "PUSH1 PUSH1 PUSH1 SHL SUB          1609\n",
       "PUSH2 JUMPI PUSH1 DUP1 REVERT       517\n",
       "ISZERO PUSH2 JUMPI PUSH1 DUP1       257\n",
       "SWAP2 SWAP1 PUSH2 JUMP JUMPDEST     176\n",
       "PUSH1 DUP3 ADD MSTORE PUSH1         133\n",
       "POP POP JUMP JUMPDEST PUSH1         120\n",
       "POP POP POP POP POP                 119\n",
       "PUSH2 JUMP JUMPDEST PUSH1 MLOAD      99\n",
       "PUSH2 JUMPI PUSH2 PUSH2 JUMP         81\n",
       "ISZERO DUP1 ISZERO PUSH2 JUMPI       72\n",
       "Name: count, dtype: int64"
      ]
     },
     "execution_count": 19,
     "metadata": {},
     "output_type": "execute_result"
    }
   ],
   "source": [
    "df['most_frequent_opcodes'].value_counts().head(10)"
   ]
  },
  {
   "cell_type": "markdown",
   "metadata": {},
   "source": [
    "But in this form is impossible to see any patterns. So, what we can do here is to split our dataset into clean and malicious transactions and then compare the most frequent opcode sequences in both groups. To make a reasonable comparison, however, we can't just look at the numbers side by side. Instead, we want to test whether the difference in the number of occurrences of a particular opcode sequence in clean and malicious transactions is statistically significant.\n",
    "\n",
    "For that, we'll perform a chi-squared test."
   ]
  },
  {
   "cell_type": "code",
   "execution_count": 20,
   "metadata": {},
   "outputs": [],
   "source": [
    "from scipy.stats import chi2_contingency\n",
    "\n",
    "def chi2_contingency_test(counts_df1: pd.Series, counts_df2: pd.Series) -> None:\n",
    "    combined_index = counts_df1.index.union(counts_df2.index)\n",
    "    counts_df1 = counts_df1.reindex(combined_index, fill_value=0)\n",
    "    counts_df2 = counts_df2.reindex(combined_index, fill_value=0)\n",
    "\n",
    "    contingency_table = pd.DataFrame({\n",
    "        'df1': counts_df1,\n",
    "        'df2': counts_df2\n",
    "    })\n",
    "\n",
    "    chi2, p, _, _ = chi2_contingency(contingency_table)\n",
    "\n",
    "    print(f\"Chi-squared statistic: {chi2:.4f}\")\n",
    "    print(f\"P-value: {p}\")\n",
    "\n",
    "    if p < 0.05:\n",
    "        print(\"The difference in distributions is statistically significant.\")\n",
    "    else:\n",
    "        print(\"The difference in distributions is not statistically significant.\")"
   ]
  },
  {
   "cell_type": "code",
   "execution_count": 21,
   "metadata": {},
   "outputs": [
    {
     "name": "stdout",
     "output_type": "stream",
     "text": [
      "Chi-squared statistic: 619.7126\n",
      "P-value: 1.955353979407871e-54\n",
      "The difference in distributions is statistically significant.\n"
     ]
    }
   ],
   "source": [
    "df_clean = df[df['label'] == 'Clean'].value_counts(\"most_frequent_opcodes\")\n",
    "df_malevolent = df[df['label'] != 'Clean'].value_counts(\"most_frequent_opcodes\")\n",
    "\n",
    "chi2_contingency_test(df_clean, df_malevolent)"
   ]
  },
  {
   "cell_type": "markdown",
   "metadata": {},
   "source": [
    "As we see, the p-value is very close to $0$, which means that the difference in the number of occurrences of the opcode sequences in clean and malicious transactions is statistically significant. This is a very valuable information, as it tells us that the `opcode` feature can be a good predictor of the target variable.\n",
    "\n",
    "So we'll keep this feature and make use of it. But we'll take advantage of the full `opcode` column, rather than from the sequences we extracted."
   ]
  },
  {
   "cell_type": "code",
   "execution_count": 22,
   "metadata": {},
   "outputs": [],
   "source": [
    "df.drop(columns=[\"most_frequent_opcodes\"], inplace=True)"
   ]
  },
  {
   "cell_type": "markdown",
   "metadata": {},
   "source": [
    "## **4. Final Dataset Preparation**"
   ]
  },
  {
   "cell_type": "markdown",
   "metadata": {},
   "source": [
    "### **4.1 Feature selection**"
   ]
  },
  {
   "cell_type": "markdown",
   "metadata": {},
   "source": [
    "As a result of our analysis, apart from other columns that we already dropped, we'll also remove the following ones:\n",
    "\n",
    "- `address` - because it's unique for each record and does not provide any valuable information \n",
    "- `bytecode` - it is encoded in the `opcode` column and cannot be adequately handled becuse of the unreadable format\n",
    "- `comment` - we already extracted the information from it and created a new feature\n",
    "- `man_validated` - the column is highly correlated with the `is_commented` column and does not provide any additional information\n",
    "- `man_validated_by` - it is unreasonable to assume any pattern in the data based on the person who validated the record"
   ]
  },
  {
   "cell_type": "code",
   "execution_count": 23,
   "metadata": {},
   "outputs": [
    {
     "name": "stdout",
     "output_type": "stream",
     "text": [
      "The following columns have been kept: ['chain_id', 'opcode', 'data_source', 'label', 'is_commented']\n"
     ]
    }
   ],
   "source": [
    "df.drop(columns=[\"address\", \"bytecode\", \"comment\", \"man_validated\", \"man_validated_by\"], inplace=True)\n",
    "print(f\"The following columns have been kept: {list(df.columns)}\")"
   ]
  },
  {
   "cell_type": "markdown",
   "metadata": {},
   "source": [
    "### **4.3 Preprocessing**"
   ]
  },
  {
   "cell_type": "markdown",
   "metadata": {},
   "source": [
    "Fianlly, we'll perform the following preprocessing steps:\n",
    "\n",
    "- One-hot encode the categorical `data_source`, `chain_id` and `is_commented` columns.\n",
    "- Format the target variable `label` as a numerical value.\n",
    "- TF-IDF vectorize the `opcode` column, then apply PCA to reduce the dimensionality of the data (for the sake of simplicity, we'll keep only 10 principal components, but this parameter can surely be tweaked to maximise performance and the speed of calculations). \n"
   ]
  },
  {
   "cell_type": "code",
   "execution_count": 24,
   "metadata": {},
   "outputs": [],
   "source": [
    "data_source_dummies = pd.get_dummies(df[\"data_source\"], prefix=\"src\", drop_first=True)\n",
    "chain_id_dummies = pd.get_dummies(df[\"chain_id\"], prefix=\"chain_id\", drop_first=True)\n",
    "is_commented_dummy = pd.get_dummies(df[\"is_commented\"], prefix=\"is_commented\", drop_first=True)\n",
    "\n",
    "df = pd.concat([df, data_source_dummies, chain_id_dummies, is_commented_dummy], axis=1)\n",
    "df.drop(columns=[\"data_source\", \"chain_id\", \"is_commented\"], inplace=True)"
   ]
  },
  {
   "cell_type": "code",
   "execution_count": 25,
   "metadata": {},
   "outputs": [],
   "source": [
    "df[\"label\"] = df[\"label\"].map({\"Clean\": 0, \"Exploit\": 1, \"Fraud\": 1, \"FinancialScam\": 2})"
   ]
  },
  {
   "cell_type": "code",
   "execution_count": 26,
   "metadata": {},
   "outputs": [],
   "source": [
    "from sklearn.feature_extraction.text import TfidfVectorizer\n",
    "from sklearn.decomposition import PCA\n",
    "\n",
    "vectorizer = TfidfVectorizer()\n",
    "tfidf_matrix = vectorizer.fit_transform(df['opcode'])\n",
    "\n",
    "pca = PCA(n_components=10)\n",
    "pca_result = pca.fit_transform(tfidf_matrix.toarray())\n",
    "pca_columns = [f'pca_{i+1}' for i in range(pca_result.shape[1])]\n",
    "pca_df = pd.DataFrame(pca_result, columns=pca_columns)\n",
    "df_with_pca = pd.concat([df.reset_index(drop=True), pca_df], axis=1)\n",
    "df_with_pca.drop(columns=['opcode'], inplace=True)\n",
    "\n",
    "df_preprocessed = df_with_pca.copy()"
   ]
  },
  {
   "cell_type": "markdown",
   "metadata": {},
   "source": [
    "As a result, the final preprocessed dataset before training the model will look as follows:"
   ]
  },
  {
   "cell_type": "code",
   "execution_count": 27,
   "metadata": {},
   "outputs": [
    {
     "data": {
      "text/html": [
       "<div>\n",
       "<style scoped>\n",
       "    .dataframe tbody tr th:only-of-type {\n",
       "        vertical-align: middle;\n",
       "    }\n",
       "\n",
       "    .dataframe tbody tr th {\n",
       "        vertical-align: top;\n",
       "    }\n",
       "\n",
       "    .dataframe thead th {\n",
       "        text-align: right;\n",
       "    }\n",
       "</style>\n",
       "<table border=\"1\" class=\"dataframe\">\n",
       "  <thead>\n",
       "    <tr style=\"text-align: right;\">\n",
       "      <th></th>\n",
       "      <th>label</th>\n",
       "      <th>src_Monitoring_and_Feedback</th>\n",
       "      <th>src_Public_Historical_Data</th>\n",
       "      <th>src_Random_Data</th>\n",
       "      <th>src_White_Lists</th>\n",
       "      <th>chain_id_10</th>\n",
       "      <th>chain_id_56</th>\n",
       "      <th>chain_id_137</th>\n",
       "      <th>chain_id_42161</th>\n",
       "      <th>chain_id_43114</th>\n",
       "      <th>...</th>\n",
       "      <th>pca_1</th>\n",
       "      <th>pca_2</th>\n",
       "      <th>pca_3</th>\n",
       "      <th>pca_4</th>\n",
       "      <th>pca_5</th>\n",
       "      <th>pca_6</th>\n",
       "      <th>pca_7</th>\n",
       "      <th>pca_8</th>\n",
       "      <th>pca_9</th>\n",
       "      <th>pca_10</th>\n",
       "    </tr>\n",
       "  </thead>\n",
       "  <tbody>\n",
       "    <tr>\n",
       "      <th>0</th>\n",
       "      <td>0</td>\n",
       "      <td>False</td>\n",
       "      <td>False</td>\n",
       "      <td>False</td>\n",
       "      <td>True</td>\n",
       "      <td>False</td>\n",
       "      <td>False</td>\n",
       "      <td>False</td>\n",
       "      <td>False</td>\n",
       "      <td>False</td>\n",
       "      <td>...</td>\n",
       "      <td>0.182550</td>\n",
       "      <td>-0.073578</td>\n",
       "      <td>0.007320</td>\n",
       "      <td>-0.000756</td>\n",
       "      <td>-0.083341</td>\n",
       "      <td>-0.026792</td>\n",
       "      <td>0.084152</td>\n",
       "      <td>0.070987</td>\n",
       "      <td>0.010037</td>\n",
       "      <td>0.022671</td>\n",
       "    </tr>\n",
       "    <tr>\n",
       "      <th>1</th>\n",
       "      <td>0</td>\n",
       "      <td>False</td>\n",
       "      <td>False</td>\n",
       "      <td>False</td>\n",
       "      <td>True</td>\n",
       "      <td>False</td>\n",
       "      <td>False</td>\n",
       "      <td>False</td>\n",
       "      <td>False</td>\n",
       "      <td>False</td>\n",
       "      <td>...</td>\n",
       "      <td>-0.035425</td>\n",
       "      <td>0.113577</td>\n",
       "      <td>0.086179</td>\n",
       "      <td>-0.027716</td>\n",
       "      <td>-0.090990</td>\n",
       "      <td>0.012979</td>\n",
       "      <td>0.080748</td>\n",
       "      <td>0.022929</td>\n",
       "      <td>0.000644</td>\n",
       "      <td>-0.011327</td>\n",
       "    </tr>\n",
       "    <tr>\n",
       "      <th>2</th>\n",
       "      <td>0</td>\n",
       "      <td>False</td>\n",
       "      <td>False</td>\n",
       "      <td>False</td>\n",
       "      <td>True</td>\n",
       "      <td>False</td>\n",
       "      <td>False</td>\n",
       "      <td>False</td>\n",
       "      <td>False</td>\n",
       "      <td>False</td>\n",
       "      <td>...</td>\n",
       "      <td>0.096898</td>\n",
       "      <td>0.026547</td>\n",
       "      <td>0.014584</td>\n",
       "      <td>0.008460</td>\n",
       "      <td>0.088735</td>\n",
       "      <td>0.017421</td>\n",
       "      <td>0.011854</td>\n",
       "      <td>-0.029745</td>\n",
       "      <td>0.024360</td>\n",
       "      <td>-0.031277</td>\n",
       "    </tr>\n",
       "    <tr>\n",
       "      <th>3</th>\n",
       "      <td>1</td>\n",
       "      <td>False</td>\n",
       "      <td>True</td>\n",
       "      <td>False</td>\n",
       "      <td>False</td>\n",
       "      <td>False</td>\n",
       "      <td>False</td>\n",
       "      <td>False</td>\n",
       "      <td>False</td>\n",
       "      <td>True</td>\n",
       "      <td>...</td>\n",
       "      <td>-0.123460</td>\n",
       "      <td>-0.061437</td>\n",
       "      <td>-0.204400</td>\n",
       "      <td>-0.151068</td>\n",
       "      <td>-0.032918</td>\n",
       "      <td>-0.013231</td>\n",
       "      <td>0.067481</td>\n",
       "      <td>-0.085884</td>\n",
       "      <td>0.014154</td>\n",
       "      <td>0.024943</td>\n",
       "    </tr>\n",
       "    <tr>\n",
       "      <th>4</th>\n",
       "      <td>0</td>\n",
       "      <td>False</td>\n",
       "      <td>False</td>\n",
       "      <td>True</td>\n",
       "      <td>False</td>\n",
       "      <td>False</td>\n",
       "      <td>False</td>\n",
       "      <td>True</td>\n",
       "      <td>False</td>\n",
       "      <td>False</td>\n",
       "      <td>...</td>\n",
       "      <td>-0.305750</td>\n",
       "      <td>0.123946</td>\n",
       "      <td>-0.099024</td>\n",
       "      <td>-0.076704</td>\n",
       "      <td>0.011680</td>\n",
       "      <td>0.024308</td>\n",
       "      <td>-0.025485</td>\n",
       "      <td>-0.031155</td>\n",
       "      <td>-0.009663</td>\n",
       "      <td>-0.006640</td>\n",
       "    </tr>\n",
       "  </tbody>\n",
       "</table>\n",
       "<p>5 rows × 22 columns</p>\n",
       "</div>"
      ],
      "text/plain": [
       "   label  src_Monitoring_and_Feedback  src_Public_Historical_Data  \\\n",
       "0      0                        False                       False   \n",
       "1      0                        False                       False   \n",
       "2      0                        False                       False   \n",
       "3      1                        False                        True   \n",
       "4      0                        False                       False   \n",
       "\n",
       "   src_Random_Data  src_White_Lists  chain_id_10  chain_id_56  chain_id_137  \\\n",
       "0            False             True        False        False         False   \n",
       "1            False             True        False        False         False   \n",
       "2            False             True        False        False         False   \n",
       "3            False            False        False        False         False   \n",
       "4             True            False        False        False          True   \n",
       "\n",
       "   chain_id_42161  chain_id_43114  ...     pca_1     pca_2     pca_3  \\\n",
       "0           False           False  ...  0.182550 -0.073578  0.007320   \n",
       "1           False           False  ... -0.035425  0.113577  0.086179   \n",
       "2           False           False  ...  0.096898  0.026547  0.014584   \n",
       "3           False            True  ... -0.123460 -0.061437 -0.204400   \n",
       "4           False           False  ... -0.305750  0.123946 -0.099024   \n",
       "\n",
       "      pca_4     pca_5     pca_6     pca_7     pca_8     pca_9    pca_10  \n",
       "0 -0.000756 -0.083341 -0.026792  0.084152  0.070987  0.010037  0.022671  \n",
       "1 -0.027716 -0.090990  0.012979  0.080748  0.022929  0.000644 -0.011327  \n",
       "2  0.008460  0.088735  0.017421  0.011854 -0.029745  0.024360 -0.031277  \n",
       "3 -0.151068 -0.032918 -0.013231  0.067481 -0.085884  0.014154  0.024943  \n",
       "4 -0.076704  0.011680  0.024308 -0.025485 -0.031155 -0.009663 -0.006640  \n",
       "\n",
       "[5 rows x 22 columns]"
      ]
     },
     "execution_count": 27,
     "metadata": {},
     "output_type": "execute_result"
    }
   ],
   "source": [
    "df_preprocessed.head()"
   ]
  },
  {
   "cell_type": "markdown",
   "metadata": {},
   "source": [
    "### **4.4 Considerations aboun model training**"
   ]
  },
  {
   "cell_type": "markdown",
   "metadata": {},
   "source": [
    "Given the nature of our data, its imbalance and relatively small size of 3.9k records the reasonable choice for the model would be a tree-based model, like Random Forest or Gradient Boosting. These models are known for their ability to handle imbalanced data the scikit-learn implementation supports weight assignment for each class, which can be very useful in our case. Also, they are less prone to overfitting compared to other models, which is also an important property given our dataset size."
   ]
  }
 ],
 "metadata": {
  "kernelspec": {
   "display_name": ".venv",
   "language": "python",
   "name": "python3"
  },
  "language_info": {
   "codemirror_mode": {
    "name": "ipython",
    "version": 3
   },
   "file_extension": ".py",
   "mimetype": "text/x-python",
   "name": "python",
   "nbconvert_exporter": "python",
   "pygments_lexer": "ipython3",
   "version": "3.12.7"
  }
 },
 "nbformat": 4,
 "nbformat_minor": 2
}
